{
 "cells": [
  {
   "cell_type": "code",
   "execution_count": 1,
   "metadata": {},
   "outputs": [
    {
     "name": "stdout",
     "output_type": "stream",
     "text": [
      "Sorted colors: [0, 0, 1, 1, 2, 2]\n"
     ]
    }
   ],
   "source": [
    "def sort_colors(colors):\n",
    "    left, middle, right = 0, 0, len(colors) - 1\n",
    "    while middle <= right:\n",
    "        if colors[middle] == 0:\n",
    "            colors[middle], colors[left] = colors[left], colors[middle]\n",
    "            left += 1\n",
    "            middle += 1\n",
    "        elif colors[middle] == 1:\n",
    "            middle += 1\n",
    "        elif colors[middle] == 2:\n",
    "            colors[middle], colors[right] = colors[right], colors[middle]\n",
    "            right -= 1\n",
    "\n",
    "# Example usage\n",
    "colors = [2, 0, 2, 1, 1, 0]\n",
    "sort_colors(colors)\n",
    "print(\"Sorted colors:\", colors)\n"
   ]
  }
 ],
 "metadata": {
  "kernelspec": {
   "display_name": "Python 3",
   "language": "python",
   "name": "python3"
  },
  "language_info": {
   "codemirror_mode": {
    "name": "ipython",
    "version": 3
   },
   "file_extension": ".py",
   "mimetype": "text/x-python",
   "name": "python",
   "nbconvert_exporter": "python",
   "pygments_lexer": "ipython3",
   "version": "3.11.5"
  }
 },
 "nbformat": 4,
 "nbformat_minor": 2
}
