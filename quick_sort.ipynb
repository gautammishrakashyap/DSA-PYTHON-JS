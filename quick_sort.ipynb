{
 "cells": [
  {
   "cell_type": "code",
   "execution_count": 5,
   "metadata": {},
   "outputs": [
    {
     "name": "stdout",
     "output_type": "stream",
     "text": [
      "Sorted array using quicksort: [15, 20, 30, 45, 50, 65, 70]\n"
     ]
    }
   ],
   "source": [
    "def partition(arr, p, q):\n",
    "    pivot = arr[p]\n",
    "    i = p\n",
    "    for j in range(p + 1, q + 1):\n",
    "        if arr[j] <= pivot:\n",
    "            i += 1\n",
    "            arr[i], arr[j] = arr[j], arr[i]\n",
    "    arr[i], arr[p] = arr[p], arr[i]  \n",
    "    # Final swap between the value of arr[i] and arr[p]\n",
    "    return i\n",
    "\n",
    "def quicksort(arr, p, q):\n",
    "    if p < q:\n",
    "        # Divide and conquer approach\n",
    "        # 1. Divide\n",
    "        mid = partition(arr, p, q)\n",
    "        # 2. Recursively sort left and right subarrays\n",
    "        quicksort(arr, p, mid - 1)\n",
    "        quicksort(arr, mid + 1, q)\n",
    "    return arr\n",
    "\n",
    "# Driver code\n",
    "arr = [50, 70, 30, 65, 15, 20, 45]\n",
    "p = 0\n",
    "q = len(arr) - 1\n",
    "result = quicksort(arr, p, q)\n",
    "print(\"Sorted aarray using quicksort:\", result)\n"
   ]
  },
  {
   "cell_type": "markdown",
   "metadata": {},
   "source": [
    "**random defination**"
   ]
  },
  {
   "cell_type": "code",
   "execution_count": 8,
   "metadata": {},
   "outputs": [
    {
     "name": "stdout",
     "output_type": "stream",
     "text": [
      "Sorted aarray using quicksort: [15, 20, 30, 45, 50, 65, 70]\n"
     ]
    }
   ],
   "source": [
    "\n",
    "import random\n",
    "\n",
    "def randompartition(arr,p,q):\n",
    "    randompivotindex = random.randrange(p,q)\n",
    "    \n",
    "    arr[p],arr[randompivotindex] = arr[randompivotindex], arr[p]\n",
    "    return partition(arr,p,q)\n",
    "def partition(arr, p, q):\n",
    "    pivot = arr[p]\n",
    "    i = p\n",
    "    for j in range(p + 1, q + 1):\n",
    "        if arr[j] <= pivot:\n",
    "            i += 1\n",
    "            arr[i], arr[j] = arr[j], arr[i]\n",
    "    arr[i], arr[p] = arr[p], arr[i]  \n",
    "    # Final swap between the value of arr[i] and arr[p]\n",
    "    return i\n",
    "\n",
    "def quicksort(arr, p, q):\n",
    "    if p < q:\n",
    "        # Divide and conquer approach\n",
    "        # 1. Divide\n",
    "        mid = partition(arr, p, q)\n",
    "        # 2. Recursively sort left and right subarrays\n",
    "        quicksort(arr, p, mid - 1)\n",
    "        quicksort(arr, mid + 1, q)\n",
    "    return arr\n",
    "\n",
    "# Driver code\n",
    "arr = [50, 70, 30, 65, 15, 20, 45]\n",
    "p = 0\n",
    "q = len(arr) - 1\n",
    "result = quicksort(arr, p, q)\n",
    "print(\"Sorted aarray using quicksort:\", result)\n"
   ]
  },
  {
   "cell_type": "markdown",
   "metadata": {},
   "source": [
    "\n"
   ]
  }
 ],
 "metadata": {
  "kernelspec": {
   "display_name": "Python 3",
   "language": "python",
   "name": "python3"
  },
  "language_info": {
   "codemirror_mode": {
    "name": "ipython",
    "version": 3
   },
   "file_extension": ".py",
   "mimetype": "text/x-python",
   "name": "python",
   "nbconvert_exporter": "python",
   "pygments_lexer": "ipython3",
   "version": "3.11.5"
  }
 },
 "nbformat": 4,
 "nbformat_minor": 2
}
