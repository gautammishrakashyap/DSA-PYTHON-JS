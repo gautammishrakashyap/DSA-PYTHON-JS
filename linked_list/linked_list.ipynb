{
 "cells": [
  {
   "cell_type": "code",
   "execution_count": 8,
   "metadata": {},
   "outputs": [
    {
     "name": "stdout",
     "output_type": "stream",
     "text": [
      "50 40 30 20 10 "
     ]
    }
   ],
   "source": [
    "class Node:\n",
    "    def __init__(self,data):\n",
    "        self.data = data\n",
    "        self.nextptr = None\n",
    "\n",
    "class Linkedlist:\n",
    "    def __init__(self):\n",
    "        self.head= None\n",
    "    ## insert the new node at the beging of the linkedlist\n",
    "    def insertAtbeginging(self, new_data):\n",
    "        ## create a new node fo thr new_data\n",
    "        new_node = Node(new_data)\n",
    "        ## insertion at the beginging of the linked list\n",
    "        new_node.nextptr = self.head\n",
    "        self.head = new_node\n",
    "\n",
    "    def printlinkedlist(self):\n",
    "        temp = self.head\n",
    "        while temp:\n",
    "            print(str(temp.data), end=\" \")\n",
    "            temp = temp.nextptr\n",
    "\n",
    "llist = LinkedList()\n",
    "llist.insertAtBeginning(10)\n",
    "llist.insertAtBeginning(20)\n",
    "llist.insertAtBeginning(30)\n",
    "llist.insertAtBeginning(40)\n",
    "llist.insertAtBeginning(50)\n",
    "llist.printLinkedList()\n",
    "\n"
   ]
  },
  {
   "cell_type": "code",
   "execution_count": 12,
   "metadata": {},
   "outputs": [
    {
     "name": "stdout",
     "output_type": "stream",
     "text": [
      "10 20 30 40 50 "
     ]
    }
   ],
   "source": [
    "class Node:\n",
    "    def __init__(self, data):\n",
    "        self.data = data\n",
    "        self.nextptr = None\n",
    "\n",
    "class LinkedList:\n",
    "    def __init__(self):\n",
    "        self.head = None\n",
    "\n",
    "    def insertAtBeginning(self, new_data):\n",
    "        new_node = Node(new_data)\n",
    "        new_node.nextptr = self.head\n",
    "        self.head = new_node\n",
    "\n",
    "    def printLinkedList(self):\n",
    "        temp = self.head\n",
    "        while temp:\n",
    "            print(str(temp.data), end=\" \")\n",
    "            temp = temp.nextptr\n",
    "\n",
    "    def insertAtEnd(self, new_data):\n",
    "        new_node = Node(new_data)\n",
    "\n",
    "        if self.head is None:\n",
    "            self.head = new_node\n",
    "            return\n",
    "\n",
    "        temp = self.head\n",
    "        while temp.nextptr:\n",
    "            temp = temp.nextptr\n",
    "\n",
    "        temp.nextptr = new_node\n",
    "\n",
    "llist = LinkedList()\n",
    "llist.insertAtEnd(10)\n",
    "llist.insertAtEnd(20)\n",
    "llist.insertAtEnd(30)\n",
    "llist.insertAtEnd(40)\n",
    "llist.insertAtEnd(50)\n",
    "llist.printLinkedList()\n"
   ]
  },
  {
   "cell_type": "code",
   "execution_count": 13,
   "metadata": {},
   "outputs": [
    {
     "name": "stdout",
     "output_type": "stream",
     "text": [
      "Insertion of nodes at the end of the linked list:\n",
      "10 20 30 40 50 \n",
      "10 20 25 30 40 50 "
     ]
    }
   ],
   "source": [
    "class Node:\n",
    "    def __init__(self, data):\n",
    "        self.data = data\n",
    "        self.nextptr = None\n",
    "\n",
    "class LinkedList:\n",
    "    def __init__(self):\n",
    "        self.head = None\n",
    "\n",
    "    def insertAtBeginning(self, new_data):\n",
    "        new_node = Node(new_data)\n",
    "        new_node.nextptr = self.head\n",
    "        self.head = new_node\n",
    "\n",
    "    def insertAfterNode(self, prev_node, new_data):\n",
    "        if prev_node is None:\n",
    "            print(\"Given node must be available in your linked list\")\n",
    "            return\n",
    "        new_node = Node(new_data)\n",
    "        new_node.nextptr = prev_node.nextptr\n",
    "        prev_node.nextptr = new_node\n",
    "\n",
    "    def printLinkedList(self):\n",
    "        temp = self.head\n",
    "        while temp:\n",
    "            print(str(temp.data), end=\" \")\n",
    "            temp = temp.nextptr\n",
    "\n",
    "    def insertAtEnd(self, new_data):\n",
    "        new_node = Node(new_data)\n",
    "\n",
    "        if self.head is None:\n",
    "            self.head = new_node\n",
    "            return\n",
    "\n",
    "        temp = self.head\n",
    "        while temp.nextptr:\n",
    "            temp = temp.nextptr\n",
    "\n",
    "        temp.nextptr = new_node\n",
    "\n",
    "llist = LinkedList()\n",
    "llist.insertAtEnd(10)\n",
    "llist.insertAtEnd(20)\n",
    "llist.insertAtEnd(30)\n",
    "llist.insertAtEnd(40)\n",
    "llist.insertAtEnd(50)\n",
    "print(\"Insertion of nodes at the end of the linked list:\")\n",
    "llist.printLinkedList()\n",
    "print()\n",
    "llist.insertAfterNode(llist.head.nextptr, 25)\n",
    "llist.printLinkedList()\n"
   ]
  }
 ],
 "metadata": {
  "kernelspec": {
   "display_name": "Python 3",
   "language": "python",
   "name": "python3"
  },
  "language_info": {
   "codemirror_mode": {
    "name": "ipython",
    "version": 3
   },
   "file_extension": ".py",
   "mimetype": "text/x-python",
   "name": "python",
   "nbconvert_exporter": "python",
   "pygments_lexer": "ipython3",
   "version": "3.11.5"
  }
 },
 "nbformat": 4,
 "nbformat_minor": 2
}
