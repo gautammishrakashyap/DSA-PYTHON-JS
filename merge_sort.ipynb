{
 "cells": [
  {
   "cell_type": "code",
   "execution_count": 3,
   "metadata": {},
   "outputs": [
    {
     "name": "stdout",
     "output_type": "stream",
     "text": [
      "Sorted array using merge sort: [13, 50, 62, 65, 70, 72, 80, 98]\n"
     ]
    }
   ],
   "source": [
    "def mergeprocedure(arr, i, mid, j):\n",
    "    # n1 -> number of elements in the left subarray (i, mid)\n",
    "    n1 = mid - i + 1\n",
    "    # n2 -> number of elements in the right subarray (mid + 1, j)\n",
    "    n2 = j - mid\n",
    "\n",
    "    # Initialization of left and right subarrays\n",
    "    leftsubarray = [0] * n1\n",
    "    rightsubarray = [0] * n2\n",
    "\n",
    "    # Copy the elements from the array to the subarrays\n",
    "    for m in range(n1):\n",
    "        leftsubarray[m] = arr[i + m]\n",
    "    for n in range(n2):\n",
    "        rightsubarray[n] = arr[mid + 1 + n]\n",
    "\n",
    "    p = 0\n",
    "    q = 0\n",
    "    k = i\n",
    "\n",
    "    # Merge the subarrays\n",
    "    while p < n1 and q < n2:\n",
    "        if leftsubarray[p] <= rightsubarray[q]:\n",
    "            arr[k] = leftsubarray[p]\n",
    "            p += 1\n",
    "        else:\n",
    "            arr[k] = rightsubarray[q]\n",
    "            q += 1\n",
    "        k += 1\n",
    "\n",
    "    # Copy the remaining elements from the left subarray\n",
    "    while p < n1:\n",
    "        arr[k] = leftsubarray[p]\n",
    "        p += 1\n",
    "        k += 1\n",
    "\n",
    "    # Copy the remaining elements from the right subarray\n",
    "    while q < n2:\n",
    "        arr[k] = rightsubarray[q]\n",
    "        q += 1\n",
    "        k += 1\n",
    "\n",
    "def mergesort(arr, i, j):\n",
    "    if i < j:\n",
    "        # Divide\n",
    "        mid = i + (j - i) // 2\n",
    "        # Conquer\n",
    "        # Recursive call -> left subtree\n",
    "        mergesort(arr, i, mid)\n",
    "        # Recursive call -> right subtree\n",
    "        mergesort(arr, mid + 1, j)\n",
    "        # Combine -> mergeprocedure (function calling)\n",
    "        mergeprocedure(arr, i, mid, j)\n",
    "    return arr\n",
    "\n",
    "# DRIVER CODE\n",
    "arr = [50, 70, 65, 13, 80, 62, 98, 72]\n",
    "i = 0\n",
    "j = len(arr) - 1\n",
    "result = mergesort(arr, i, j)\n",
    "print(\"Sorted array using merge sort:\", result)\n"
   ]
  }
 ],
 "metadata": {
  "kernelspec": {
   "display_name": "Python 3",
   "language": "python",
   "name": "python3"
  },
  "language_info": {
   "codemirror_mode": {
    "name": "ipython",
    "version": 3
   },
   "file_extension": ".py",
   "mimetype": "text/x-python",
   "name": "python",
   "nbconvert_exporter": "python",
   "pygments_lexer": "ipython3",
   "version": "3.11.5"
  }
 },
 "nbformat": 4,
 "nbformat_minor": 2
}
