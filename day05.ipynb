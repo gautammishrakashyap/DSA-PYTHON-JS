{
 "cells": [
  {
   "cell_type": "code",
   "execution_count": 21,
   "metadata": {},
   "outputs": [
    {
     "name": "stdout",
     "output_type": "stream",
     "text": [
      "7\n"
     ]
    }
   ],
   "source": [
    "## function defination\n",
    "## time complexity : o(n)\n",
    "## space complexity : o(1)\n",
    "def linear_search(arr, x):\n",
    "    for i in range(len(arr)):\n",
    "        if arr[i]==x:\n",
    "            return i\n",
    "    return -1\n",
    "arr=[23,34,45,56,67,78,89,9,0]\n",
    "x = 9\n",
    "re = linear_search(arr,x)\n",
    "print(re)"
   ]
  },
  {
   "cell_type": "code",
   "execution_count": 42,
   "metadata": {},
   "outputs": [
    {
     "name": "stdout",
     "output_type": "stream",
     "text": [
      "3\n"
     ]
    }
   ],
   "source": [
    "## binary search\n",
    "\n",
    "def binary_search(arr,x,i,j):\n",
    "    while i <= j:\n",
    "       mid = i +(j-i)//2\n",
    "       if arr[mid]==x:\n",
    "         return mid\n",
    "       elif arr[mid] < x:\n",
    "         return binary_search(arr,x,mid+1,j)\n",
    "       else :\n",
    "         return binary_search(arr,x,i,mid-1)\n",
    "    return -1 ##if not in arr give -1\n",
    "       \n",
    "## driver code\n",
    "arr =[ 20, 30,40, 50 ,60]\n",
    "x = 50\n",
    "i=0\n",
    "j=len(arr)-1\n",
    "result = binary_search(arr,x,i,j)\n",
    "print(result)"
   ]
  },
  {
   "cell_type": "code",
   "execution_count": 47,
   "metadata": {},
   "outputs": [
    {
     "name": "stdout",
     "output_type": "stream",
     "text": [
      "5\n"
     ]
    }
   ],
   "source": [
    "## with recursion\n",
    "def bs(arr,x,i,j):\n",
    "    while i<=j:\n",
    "        mid = i+(j-i)//2 \n",
    "        if arr[mid]==x:\n",
    "            return mid\n",
    "        elif arr[mid]<x:\n",
    "            return bs(arr, x, mid+1,j)\n",
    "        else:\n",
    "            return bs(arr,x,i,mid-1)\n",
    "    return -1\n",
    "arr=[20,30,40,40,50,60,70]\n",
    "x=60\n",
    "i=0\n",
    "j=len(arr)-1\n",
    "result=bs(arr,x,i,j)\n",
    "print(result)\n"
   ]
  },
  {
   "cell_type": "code",
   "execution_count": 48,
   "metadata": {},
   "outputs": [
    {
     "name": "stdout",
     "output_type": "stream",
     "text": [
      "5\n"
     ]
    }
   ],
   "source": [
    "## without recursion\n",
    "def bs(arr,x,i,j):\n",
    "    while i<=j:\n",
    "        mid = i+(j-i)//2 \n",
    "        if arr[mid]==x:\n",
    "            return mid\n",
    "        elif arr[mid]<x:\n",
    "            i = mid +1\n",
    "        else:\n",
    "            j = mid -1\n",
    "    return -1\n",
    "arr=[20,30,40,40,50,60,70]\n",
    "x=60\n",
    "i=0\n",
    "j=len(arr)-1\n",
    "result=bs(arr,x,i,j)\n",
    "print(result)"
   ]
  }
 ],
 "metadata": {
  "kernelspec": {
   "display_name": "Python 3",
   "language": "python",
   "name": "python3"
  },
  "language_info": {
   "codemirror_mode": {
    "name": "ipython",
    "version": 3
   },
   "file_extension": ".py",
   "mimetype": "text/x-python",
   "name": "python",
   "nbconvert_exporter": "python",
   "pygments_lexer": "ipython3",
   "version": "3.11.5"
  }
 },
 "nbformat": 4,
 "nbformat_minor": 2
}
