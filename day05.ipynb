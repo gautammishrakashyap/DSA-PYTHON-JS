{
 "cells": [
  {
   "cell_type": "code",
   "execution_count": 127,
   "metadata": {},
   "outputs": [
    {
     "name": "stdout",
     "output_type": "stream",
     "text": [
      "7\n"
     ]
    }
   ],
   "source": [
    "## function defination\n",
    "## time complexity : o(n)\n",
    "## space complexity : o(1)\n",
    "def linear_search(arr, x):\n",
    "    for i in range(len(arr)):\n",
    "        if arr[i]==x:\n",
    "            return i\n",
    "    return -1\n",
    "arr=[23,34,45,56,67,78,89,9,0]\n",
    "x = 9\n",
    "re = linear_search(arr,x)\n",
    "print(re)"
   ]
  },
  {
   "cell_type": "code",
   "execution_count": 128,
   "metadata": {},
   "outputs": [
    {
     "name": "stdout",
     "output_type": "stream",
     "text": [
      "3\n"
     ]
    }
   ],
   "source": [
    "## binary search\n",
    "\n",
    "def binary_search(arr,x,i,j):\n",
    "    while i <= j:\n",
    "       mid = i +(j-i)//2\n",
    "       if arr[mid]==x:\n",
    "         return mid\n",
    "       elif arr[mid] < x:\n",
    "         return binary_search(arr,x,mid+1,j)\n",
    "       else :\n",
    "         return binary_search(arr,x,i,mid-1)\n",
    "    return -1 ##if not in arr give -1\n",
    "       \n",
    "## driver code\n",
    "arr =[ 20, 30,40, 50 ,60]\n",
    "x = 50\n",
    "i=0\n",
    "j=len(arr)-1\n",
    "result = binary_search(arr,x,i,j)\n",
    "print(result)"
   ]
  },
  {
   "cell_type": "code",
   "execution_count": 129,
   "metadata": {},
   "outputs": [
    {
     "name": "stdout",
     "output_type": "stream",
     "text": [
      "5\n"
     ]
    }
   ],
   "source": [
    "## with recursion\n",
    "def bs(arr,x,i,j):\n",
    "    while i<=j:\n",
    "        mid = i+(j-i)//2 \n",
    "        if arr[mid]==x:\n",
    "            return mid\n",
    "        elif arr[mid]<x:\n",
    "            return bs(arr, x, mid+1,j)\n",
    "        else:\n",
    "            return bs(arr,x,i,mid-1)\n",
    "    return -1\n",
    "arr=[20,30,40,40,50,60,70]\n",
    "x=60\n",
    "i=0\n",
    "j=len(arr)-1\n",
    "result=bs(arr,x,i,j)\n",
    "print(result)\n"
   ]
  },
  {
   "cell_type": "code",
   "execution_count": 130,
   "metadata": {},
   "outputs": [
    {
     "name": "stdout",
     "output_type": "stream",
     "text": [
      "5\n"
     ]
    }
   ],
   "source": [
    "## without recursion\n",
    "def bs(arr,x,i,j):\n",
    "    while i<=j:\n",
    "        mid = i+(j-i)//2 \n",
    "        if arr[mid]==x:\n",
    "            return mid\n",
    "        elif arr[mid]<x:\n",
    "            i = mid +1\n",
    "        else:\n",
    "            j = mid -1\n",
    "    return -1\n",
    "arr=[20,30,40,40,50,60,70]\n",
    "x=60\n",
    "i=0\n",
    "j=len(arr)-1\n",
    "result=bs(arr,x,i,j)\n",
    "print(result)"
   ]
  },
  {
   "cell_type": "code",
   "execution_count": 131,
   "metadata": {},
   "outputs": [
    {
     "name": "stdout",
     "output_type": "stream",
     "text": [
      "30 + 70 = 100\n",
      "40 + 60 = 100\n",
      "50 + 50 = 100\n",
      "60 + 40 = 100\n",
      "70 + 30 = 100\n"
     ]
    }
   ],
   "source": [
    "##  add two numbers \n",
    "arr = [ 10, 20, 30, 40, 50, 60, 70]\n",
    "x = 100\n",
    "for i in arr:\n",
    "    for j in arr:\n",
    "     if i +j ==100:\n",
    "      print(i,'+',j,'= 100')     "
   ]
  },
  {
   "cell_type": "code",
   "execution_count": 132,
   "metadata": {},
   "outputs": [
    {
     "name": "stdout",
     "output_type": "stream",
     "text": [
      "(30, 70)\n"
     ]
    }
   ],
   "source": [
    "## solved leet code problem number 1....\n",
    "def two_sum():\n",
    "    for i in arr:\n",
    "     for j in arr:\n",
    "      if i +j ==100:\n",
    "       return i,j\n",
    "arr = [ 10, 20, 30, 40, 50, 60, 70]\n",
    "x = 100\n",
    "result = two_sum()\n",
    "print(result)"
   ]
  },
  {
   "cell_type": "code",
   "execution_count": 133,
   "metadata": {},
   "outputs": [
    {
     "name": "stdout",
     "output_type": "stream",
     "text": [
      "15\n"
     ]
    }
   ],
   "source": [
    "\n",
    "\n",
    "def findmaxprofit(prices):\n",
    "    minprice = float('inf')\n",
    "    maxprofit = 0\n",
    "\n",
    "    for i in range(len(prices)):\n",
    "        if prices[i] < minprice:\n",
    "            minprice = prices[i]\n",
    "        elif prices[i] - minprice > maxprofit:\n",
    "            maxprofit = prices[i] - minprice\n",
    "    return maxprofit\n",
    "\n",
    "prices = [7, 1, 5, 3, 6, 16]\n",
    "max_profit = findmaxprofit(prices)\n",
    "print(max_profit)\n",
    "\n",
    "\n",
    "\n",
    "    "
   ]
  },
  {
   "cell_type": "code",
   "execution_count": 136,
   "metadata": {},
   "outputs": [
    {
     "name": "stdout",
     "output_type": "stream",
     "text": [
      "True\n"
     ]
    }
   ],
   "source": [
    "def search2darray(arr,target):\n",
    "  m = len(arr)\n",
    "  if m == 0:\n",
    "      return False\n",
    "\n",
    "  n = len(arr[0])\n",
    "  left, right = 0 , m*n-1\n",
    "  while left <= right:\n",
    "     mid = left + (right -left)//2\n",
    "     mid_element = arr[mid//n][mid%n]\n",
    "     if target == mid_element:\n",
    "        return True\n",
    "     elif target < mid_element:\n",
    "        right = mid-1\n",
    "     else:\n",
    "        left = mid+1\n",
    "\n",
    "  return False\n",
    "       \n",
    "      \n",
    "\n",
    "\n",
    "\n",
    "\n",
    "\n",
    "arr = [[1, 2, 5, 7], [10, 11, 16, 20], [23, 30, 34, 60]]\n",
    "target = 5\n",
    "result = search2darray(arr,target)\n",
    "print(result)\n",
    "\n",
    "        \n",
    "    \n",
    "\n",
    "    "
   ]
  }
 ],
 "metadata": {
  "kernelspec": {
   "display_name": "Python 3",
   "language": "python",
   "name": "python3"
  },
  "language_info": {
   "codemirror_mode": {
    "name": "ipython",
    "version": 3
   },
   "file_extension": ".py",
   "mimetype": "text/x-python",
   "name": "python",
   "nbconvert_exporter": "python",
   "pygments_lexer": "ipython3",
   "version": "undefined.undefined.undefined"
  }
 },
 "nbformat": 4,
 "nbformat_minor": 2
}
