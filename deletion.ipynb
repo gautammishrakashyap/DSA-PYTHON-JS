{
 "cells": [
  {
   "cell_type": "code",
   "execution_count": 18,
   "metadata": {},
   "outputs": [
    {
     "name": "stdout",
     "output_type": "stream",
     "text": [
      "15 14 15 26 16 25 20 "
     ]
    }
   ],
   "source": [
    "class TreeNode:\n",
    "    def __init__(self, data):\n",
    "        self.data = data\n",
    "        self.right = None\n",
    "        self.left = None\n",
    "\n",
    "def preorder_traversal(root):\n",
    "    if root:\n",
    "        print(root.data, end=' ')\n",
    "        preorder_traversal(root.left)\n",
    "        preorder_traversal(root.right)\n",
    "\n",
    "root = TreeNode(15)\n",
    "nodea = TreeNode(14)\n",
    "nodeb = TreeNode(20)        \n",
    "nodec = TreeNode(15)\n",
    "noded = TreeNode(25)        \n",
    "nodee = TreeNode(16)\n",
    "nodef = TreeNode(26)  \n",
    "\n",
    "root.left = nodea\n",
    "root.right = nodeb\n",
    "nodea.left = nodec\n",
    "nodea.right = noded\n",
    "nodec.right = nodee\n",
    "nodec.left = nodef\n",
    "\n",
    "preorder_traversal(root)"
   ]
  },
  {
   "cell_type": "code",
   "execution_count": 19,
   "metadata": {},
   "outputs": [
    {
     "name": "stdout",
     "output_type": "stream",
     "text": [
      "15 14 15 26 9 16 25 20 "
     ]
    }
   ],
   "source": [
    "def insert(node,data):\n",
    "    if node is None:\n",
    "        return TreeNode(data)\n",
    "    else:\n",
    "        if data < node.data:\n",
    "            node.left = insert(node.left,data)\n",
    "        elif data > node.data:\n",
    "            node.right = insert(node.right, data)\n",
    "    return node\n",
    "insert(root,9)\n",
    "preorder_traversal(root)        "
   ]
  },
  {
   "cell_type": "code",
   "execution_count": 20,
   "metadata": {},
   "outputs": [
    {
     "name": "stdout",
     "output_type": "stream",
     "text": [
      "15 14 15 26 9 16 25 20 "
     ]
    }
   ],
   "source": [
    "def delete(node, data):\n",
    "    if not node:\n",
    "        return None\n",
    "    if data < node.data:\n",
    "        node.left = delete(node.left, data)\n",
    "    elif data > node.data:\n",
    "        node.right = delete(node.right, data)\n",
    "    else:\n",
    "        if not node.left:\n",
    "            temp = node.right\n",
    "            node = None\n",
    "            return temp\n",
    "        elif  not node.right:\n",
    "            temp = node.left\n",
    "            node = None\n",
    "            return temp\n",
    "    return node\n",
    "delete(root,7)\n",
    "preorder_traversal(root)\n",
    "\n"
   ]
  },
  {
   "cell_type": "code",
   "execution_count": 30,
   "metadata": {},
   "outputs": [
    {
     "name": "stdout",
     "output_type": "stream",
     "text": [
      "15 14 15 26 9 16 25 20 \n",
      " min value  ~  9\n"
     ]
    }
   ],
   "source": [
    "#minimum value in bst or its subtree\n",
    "def min_value_node(node):\n",
    "    current = node\n",
    "    while current.left is not None:\n",
    "        current = current.left\n",
    "    return current\n",
    "\n",
    "#call min_value\n",
    "\n",
    "preorder_traversal(root)\n",
    "min_value_node(root)\n",
    "\n",
    "print(\"\\n min value  ~ \", min_value_node(root).data)"
   ]
  }
 ],
 "metadata": {
  "kernelspec": {
   "display_name": "Python 3",
   "language": "python",
   "name": "python3"
  },
  "language_info": {
   "codemirror_mode": {
    "name": "ipython",
    "version": 3
   },
   "file_extension": ".py",
   "mimetype": "text/x-python",
   "name": "python",
   "nbconvert_exporter": "python",
   "pygments_lexer": "ipython3",
   "version": "3.11.5"
  }
 },
 "nbformat": 4,
 "nbformat_minor": 2
}
