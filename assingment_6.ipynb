{
 "cells": [
  {
   "cell_type": "code",
   "execution_count": 5,
   "metadata": {},
   "outputs": [
    {
     "name": "stdout",
     "output_type": "stream",
     "text": [
      "3\n"
     ]
    }
   ],
   "source": [
    "def binary_search(arr,x,i,j):\n",
    "    while i<=j:\n",
    "        mid = i + (j-i)//2\n",
    "        if arr[mid]==x:\n",
    "            return mid\n",
    "        elif arr[mid]<x:\n",
    "            i = mid+1\n",
    "        else:\n",
    "            j = mid -1\n",
    "    return -1\n",
    "## driver code \n",
    "arr = [10,20,30,40,50]\n",
    "x= 40\n",
    "i = 0\n",
    "j = len(arr)-1\n",
    "result = binary_search(arr,x,i,j)\n",
    "print(result)\n",
    "\n",
    "# def bs(arr,x,i,j):\n",
    "#     while i<=j:\n",
    "#         mid = i+(j-i)//2 \n",
    "#         if arr[mid]==x:\n",
    "#             return mid\n",
    "#         elif arr[mid]<x:\n",
    "#             i = mid +1\n",
    "#         else:\n",
    "#             j = mid -1\n",
    "#     return -1\n",
    "# arr=[20,30,40,40,50,60,70]\n",
    "# x=60\n",
    "# i=0\n",
    "# j=len(arr)-1\n",
    "# result=bs(arr,x,i,j)\n",
    "# print(result)"
   ]
  },
  {
   "cell_type": "code",
   "execution_count": 17,
   "metadata": {},
   "outputs": [
    {
     "name": "stdout",
     "output_type": "stream",
     "text": [
      "2\n",
      "9\n"
     ]
    }
   ],
   "source": [
    "# compute\n",
    "#and return the squareroot of x,\n",
    "# where x is guarantee to be a non negative integer and since thr return type is an integer, the decimal digits are truncated and only the integer part of the result is returned. also talk about ht time complaxity of you code\n",
    "def mySqrt(x) :\n",
    "    if x == 0:\n",
    "        return 0\n",
    "\n",
    "    i, j = 1, x\n",
    "    while i <= j:\n",
    "        mid = i + (j - i) // 2\n",
    "        square = mid * mid\n",
    "\n",
    "        if square == x:\n",
    "            return mid\n",
    "        elif square < x:\n",
    "            i = mid + 1\n",
    "        else:\n",
    "            j = mid - 1\n",
    "\n",
    "    # When the loop ends, right will be the largest integer whose square is less than or equal to x\n",
    "    return j\n",
    "\n",
    "# Test cases\n",
    "print(mySqrt(4))  # Output: 2\n",
    "print(mySqrt(81))  # Output: 2\n",
    "\n",
    "\n"
   ]
  },
  {
   "cell_type": "code",
   "execution_count": 46,
   "metadata": {},
   "outputs": [
    {
     "name": "stdout",
     "output_type": "stream",
     "text": [
      "False 27\n"
     ]
    }
   ],
   "source": [
    "def sq(x):\n",
    "    if x == 0:\n",
    "        return 0\n",
    "    i, j = 1, x\n",
    "\n",
    "    while i <= j:\n",
    "        mid = i + (j - i) / 2\n",
    "        sq = mid * mid\n",
    "\n",
    "        if sq == x:\n",
    "            return int(mid)\n",
    "        elif sq < x:\n",
    "            i = mid + 1\n",
    "        else:\n",
    "            j = mid - 1\n",
    "\n",
    "    return int(j)\n",
    "\n",
    "def check(a, mid):\n",
    "    return mid * mid == a\n",
    "\n",
    "x = 721\n",
    "y = check(x, sq(x))\n",
    "print(y, sq(x))\n"
   ]
  },
  {
   "cell_type": "code",
   "execution_count": 26,
   "metadata": {},
   "outputs": [
    {
     "name": "stdout",
     "output_type": "stream",
     "text": [
      "The first bad version is at index 1\n"
     ]
    }
   ],
   "source": [
    "# Assume this function is provided by the system\n",
    "# It returns True if the version is bad, otherwise False\n",
    "# You can replace this with your own logic\n",
    "# Example: return version >= 3  # Assuming version 3 and onwards are bad\n",
    "\n",
    "def firstBadVersion(n):\n",
    "    i, j = 1, n\n",
    "\n",
    "    while i < j:\n",
    "        mid = i + (i - j) // 2\n",
    "        if firstBadVersion(mid):\n",
    "            # If mid is bad, search in the left half\n",
    "            j = mid\n",
    "        else:\n",
    "            # If mid is good, search in the right half\n",
    "            i = mid + 1\n",
    "\n",
    "    return i\n",
    "\n",
    "# Example usage\n",
    "versions = [0, 0, 0, 1, 1, 1, 1, 1, 1]\n",
    "first_bad = firstBadVersion(len(versions))\n",
    "print(f\"The first bad version is at index {first_bad}\")\n"
   ]
  },
  {
   "cell_type": "code",
   "execution_count": 51,
   "metadata": {},
   "outputs": [
    {
     "name": "stdout",
     "output_type": "stream",
     "text": [
      "5\n"
     ]
    }
   ],
   "source": [
    "def findmaxprofit(pric):\n",
    "    minprice = float('inf')\n",
    "    maxprofit = 0\n",
    "    for i in range(len(pric)):\n",
    "        if pric[i]< minprice:\n",
    "            minprice = pric[i]\n",
    "        elif pric[i]-minprice>maxprofit:\n",
    "            maxprofit = pric[i]-minprice\n",
    "    return maxprofit\n",
    "# driver cod\n",
    "pric + [4,5,6,7,8,9]\n",
    "maxprofit_val  = findmaxprofit(pric)\n",
    "print(maxprofit_val)\n",
    "\n",
    "\n",
    "\n"
   ]
  }
 ],
 "metadata": {
  "kernelspec": {
   "display_name": "Python 3",
   "language": "python",
   "name": "python3"
  },
  "language_info": {
   "codemirror_mode": {
    "name": "ipython",
    "version": 3
   },
   "file_extension": ".py",
   "mimetype": "text/x-python",
   "name": "python",
   "nbconvert_exporter": "python",
   "pygments_lexer": "ipython3",
   "version": "3.11.5"
  }
 },
 "nbformat": 4,
 "nbformat_minor": 2
}
