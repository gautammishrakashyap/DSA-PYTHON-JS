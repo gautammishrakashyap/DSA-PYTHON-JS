{
 "cells": [
  {
   "cell_type": "code",
   "execution_count": 4,
   "metadata": {},
   "outputs": [
    {
     "name": "stdout",
     "output_type": "stream",
     "text": [
      "yes\n"
     ]
    }
   ],
   "source": [
    "def collinear_point(x1,y1,x2,y2,x3,y3):\n",
    "    if((y2-y1)*(x3-x2)==(y3-y2)*(x2-x1)):\n",
    "        print('yes')\n",
    "    else:\n",
    "        print('no')\n",
    "x1,x2,x3,y1,y2,y3=1,1,1,6,0,9\n",
    "collinear_point(x1,y1,x2,y2,x3,y3)     "
   ]
  },
  {
   "cell_type": "code",
   "execution_count": 9,
   "metadata": {},
   "outputs": [
    {
     "name": "stdout",
     "output_type": "stream",
     "text": [
      "nval\n"
     ]
    }
   ],
   "source": [
    "def collinear_points(x1,y1,x2,y2,x3,y3):\n",
    "    area = 0.5*(x1*(y2-y3)+x2*(y3-y1)+x3*(y1-y2))\n",
    "    if area == 0:\n",
    "        print('val')\n",
    "    else:\n",
    "        print(\"nval\")\n",
    "\n",
    "x1,y1,x2,y2,x3,y3=1,1,1,6,0,9\n",
    "collinear_points(x1,y1,x2,y2,x3,y3)"
   ]
  },
  {
   "cell_type": "code",
   "execution_count": 49,
   "metadata": {},
   "outputs": [
    {
     "name": "stdout",
     "output_type": "stream",
     "text": [
      "['a', 'a', 'a', 'e', 'e', 'i', 'o', 'o', 'o', 'u']\n",
      "{'a': 3, 'e': 2, 'i': 1, 'o': 3, 'u': 1}\n",
      "o\n"
     ]
    }
   ],
   "source": [
    "from collections import Counter\n",
    "\n",
    "\n",
    "product = ['a', 'e', 'i', 'o', 'u', 'a', 'a', 'e', 'o', 'o']\n",
    "\n",
    "product.sort()\n",
    "\n",
    "print(product)\n",
    "\n",
    "products_count = dict(Counter(product))\n",
    "\n",
    "print(products_count)\n",
    "\n",
    "max_count = 0\n",
    "rqd_product = []\n",
    "\n",
    "for i in products_count:\n",
    "    if max_count < products_count[i]:\n",
    "        max_count = products_count[i]\n",
    "\n",
    "for key, value in products_count.items():\n",
    "    if max_count == value:\n",
    "        rqd_product.append(key)\n",
    "\n",
    "print(rqd_product[-1])\n",
    "\n"
   ]
  },
  {
   "cell_type": "code",
   "execution_count": 41,
   "metadata": {},
   "outputs": [
    {
     "name": "stdout",
     "output_type": "stream",
     "text": [
      "['a', 'a', 'a', 'e', 'e', 'i', 'o', 'o', 'o', 'u']\n",
      "{'a': 3, 'e': 2, 'i': 1, 'o': 3, 'u': 1}\n",
      "o\n"
     ]
    }
   ],
   "source": [
    "from collections import Counter\n",
    "\n",
    "# List of products\n",
    "product = ['a', 'e', 'i', 'o', 'u', 'a', 'a', 'e', 'o', 'o']\n",
    "\n",
    "# Sort the product list\n",
    "product.sort()\n",
    "\n",
    "# Print the sorted product list\n",
    "print(product)\n",
    "\n",
    "# Create a dictionary with counts of each product\n",
    "products_count = dict(Counter(product))\n",
    "\n",
    "# Print the products count\n",
    "print(products_count)\n",
    "\n",
    "# Initialize the maximum count and required product list\n",
    "max_count = 0\n",
    "rqd_product = []\n",
    "\n",
    "# Find the product with the maximum count\n",
    "for i in products_count:\n",
    "    if max_count < products_count[i]:\n",
    "        max_count = products_count[i]\n",
    "\n",
    "# Find all products with the maximum count\n",
    "for key, value in products_count.items():\n",
    "    if max_count == value:\n",
    "        rqd_product.append(key)\n",
    "\n",
    "# Print the product with the maximum count that appears last in the sorted list\n",
    "print(rqd_product[-1])\n"
   ]
  },
  {
   "cell_type": "code",
   "execution_count": 55,
   "metadata": {},
   "outputs": [
    {
     "name": "stdout",
     "output_type": "stream",
     "text": [
      "max no of repatation of element 3\n"
     ]
    }
   ],
   "source": [
    "product = ['a', 'e', 'i', 'o', 'u', 'a', 'e', 'o', 'o']\n",
    "new =[]\n",
    "a = product.count('a')\n",
    "e = product.count('e')\n",
    "i = product.count('i')\n",
    "o = product.count('o')\n",
    "u = product.count('o')\n",
    "new.append(a)\n",
    "new.append(e)\n",
    "new.append(i)\n",
    "new.append(i)\n",
    "new.append(u)\n",
    "max_repeat = max(new)\n",
    "print('max no of repatation of element',max_repeat)\n"
   ]
  },
  {
   "cell_type": "code",
   "execution_count": 58,
   "metadata": {},
   "outputs": [
    {
     "name": "stdout",
     "output_type": "stream",
     "text": [
      "The vowel 'o' has the maximum number of repetitions: 3\n"
     ]
    }
   ],
   "source": [
    "product = ['a', 'e', 'i', 'o', 'u', 'a', 'e', 'o', 'o']\n",
    "\n",
    "counts = {vowel: product.count(vowel) for vowel in 'aeiou'}\n",
    "\n",
    "max_vowel = max(counts, key=counts.get)\n",
    "\n",
    "print(f\"The vowel '{max_vowel}' has the maximum number of repetitions: {counts[max_vowel]}\")\n"
   ]
  }
 ],
 "metadata": {
  "kernelspec": {
   "display_name": "Python 3",
   "language": "python",
   "name": "python3"
  },
  "language_info": {
   "codemirror_mode": {
    "name": "ipython",
    "version": 3
   },
   "file_extension": ".py",
   "mimetype": "text/x-python",
   "name": "python",
   "nbconvert_exporter": "python",
   "pygments_lexer": "ipython3",
   "version": "3.11.5"
  }
 },
 "nbformat": 4,
 "nbformat_minor": 2
}
