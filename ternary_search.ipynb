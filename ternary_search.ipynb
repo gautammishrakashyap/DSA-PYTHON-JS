{
 "cells": [
  {
   "cell_type": "code",
   "execution_count": 10,
   "metadata": {},
   "outputs": [
    {
     "name": "stdout",
     "output_type": "stream",
     "text": [
      "5\n"
     ]
    }
   ],
   "source": [
    "# function defination\n",
    "\n",
    "def ternary_search(arr,i,j,key):\n",
    "  mid1 = i +(j-i)//3\n",
    "  mid2 = j -(j-i)//3\n",
    "  while i <= j:\n",
    "    if arr[mid1]==key:\n",
    "      return mid1\n",
    "    if arr[mid2] == key:\n",
    "      return mid2\n",
    "    if key < arr[mid1]:\n",
    "      return ternary_search(arr,i,mid1-1,key)\n",
    "    elif key > arr[mid2]:\n",
    "      return ternary_search(arr,mid2+1,j,key)\n",
    "    else:\n",
    "      return ternary_search(arr,mid1+1,mid2-1,key)\n",
    "  return -1\n",
    "    \n",
    "## driver code ##\n",
    "arr = [20,25,47,66,87,88,96,98,99]\n",
    "i =0\n",
    "j = len(arr)-1\n",
    "key = int(input(\"enter the no. ~  \\n\"))\n",
    "position = ternary_search(arr,i,j,key)\n",
    "print(position)\n",
    "\n",
    "\n",
    "\n",
    "    "
   ]
  }
 ],
 "metadata": {
  "kernelspec": {
   "display_name": "Python 3",
   "language": "python",
   "name": "python3"
  },
  "language_info": {
   "codemirror_mode": {
    "name": "ipython",
    "version": 3
   },
   "file_extension": ".py",
   "mimetype": "text/x-python",
   "name": "python",
   "nbconvert_exporter": "python",
   "pygments_lexer": "ipython3",
   "version": "3.11.5"
  }
 },
 "nbformat": 4,
 "nbformat_minor": 2
}
