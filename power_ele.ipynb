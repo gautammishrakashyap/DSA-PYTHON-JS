{
 "cells": [
  {
   "cell_type": "code",
   "execution_count": 3,
   "metadata": {},
   "outputs": [
    {
     "name": "stdout",
     "output_type": "stream",
     "text": [
      "the power of n is  1024\n"
     ]
    }
   ],
   "source": [
    "def find_power_of_element(a,n):\n",
    "    if n==1:\n",
    "        return a\n",
    "    elif n==0:\n",
    "        return 1\n",
    "    else:\n",
    "        mid = n//2\n",
    "        b = find_power_of_element(a,mid)\n",
    "        result = b*b\n",
    "        if n % 2 ==0:\n",
    "            return result\n",
    "        return result*a\n",
    "## driver code\n",
    "a = 2\n",
    "n = 10\n",
    "## findpowerofelement\n",
    "result = find_power_of_element(a,n)\n",
    "print(\"the power of n is \", result)"
   ]
  },
  {
   "cell_type": "code",
   "execution_count": 18,
   "metadata": {},
   "outputs": [
    {
     "name": "stdout",
     "output_type": "stream",
     "text": [
      "the final result 1024\n"
     ]
    }
   ],
   "source": [
    "def f(a,n):\n",
    "    if n == 1:\n",
    "        return a\n",
    "    elif n ==0:\n",
    "        return 1\n",
    "    else:\n",
    "        mid = n//2\n",
    "        b = f(a,mid)\n",
    "        result = b*b\n",
    "        if n % 2 == 0:\n",
    "            return result \n",
    "        return result*a\n",
    "a = 2\n",
    "n= 10\n",
    "result = f(a,n)\n",
    "print(\"the final result\" ,result)\n",
    "\n"
   ]
  },
  {
   "cell_type": "code",
   "execution_count": null,
   "metadata": {},
   "outputs": [],
   "source": []
  }
 ],
 "metadata": {
  "kernelspec": {
   "display_name": "Python 3",
   "language": "python",
   "name": "python3"
  },
  "language_info": {
   "codemirror_mode": {
    "name": "ipython",
    "version": 3
   },
   "file_extension": ".py",
   "mimetype": "text/x-python",
   "name": "python",
   "nbconvert_exporter": "python",
   "pygments_lexer": "ipython3",
   "version": "3.11.5"
  }
 },
 "nbformat": 4,
 "nbformat_minor": 2
}
