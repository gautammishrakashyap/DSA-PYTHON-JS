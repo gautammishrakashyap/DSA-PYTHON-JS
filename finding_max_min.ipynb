{
 "cells": [
  {
   "cell_type": "code",
   "execution_count": 3,
   "metadata": {},
   "outputs": [
    {
     "name": "stdout",
     "output_type": "stream",
     "text": [
      "Maximum value: 98\n",
      "Minimum value: 11\n"
     ]
    }
   ],
   "source": [
    "def find_max_min(arr, i, j):\n",
    "    if i == j:\n",
    "        max_val = arr[i]\n",
    "        min_val = arr[i]\n",
    "    elif i == j - 1:\n",
    "        if arr[i] < arr[j]:\n",
    "            max_val = arr[j]\n",
    "            min_val = arr[i]\n",
    "        else:\n",
    "            max_val = arr[i]\n",
    "            min_val = arr[j]\n",
    "    else:\n",
    "        # dividing and conquer approach\n",
    "        # 1. divide\n",
    "        mid = i + (j - i) // 2\n",
    "\n",
    "        # recursion -> conquer\n",
    "        max_1, min_1 = find_max_min(arr, i, mid)\n",
    "        max_2, min_2 = find_max_min(arr, mid + 1, j)\n",
    "\n",
    "        # combine\n",
    "        max_val = max(max_1, max_2)\n",
    "        min_val = min(min_1, min_2)\n",
    "\n",
    "    return max_val, min_val\n",
    "\n",
    "# driver code\n",
    "arr = [12, 34, 56, 78, 98, 76, 11]\n",
    "i = 0\n",
    "j = len(arr) - 1\n",
    "max_val, min_val = find_max_min(arr, i, j)\n",
    "print(\"Maximum value:\", max_val)\n",
    "print(\"Minimum value:\", min_val)\n"
   ]
  }
 ],
 "metadata": {
  "kernelspec": {
   "display_name": "Python 3",
   "language": "python",
   "name": "python3"
  },
  "language_info": {
   "codemirror_mode": {
    "name": "ipython",
    "version": 3
   },
   "file_extension": ".py",
   "mimetype": "text/x-python",
   "name": "python",
   "nbconvert_exporter": "python",
   "pygments_lexer": "ipython3",
   "version": "3.11.5"
  }
 },
 "nbformat": 4,
 "nbformat_minor": 2
}
